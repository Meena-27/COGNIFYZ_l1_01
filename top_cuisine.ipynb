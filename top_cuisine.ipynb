{
  "nbformat": 4,
  "nbformat_minor": 0,
  "metadata": {
    "colab": {
      "provenance": [],
      "authorship_tag": "ABX9TyNvtJgjW93DfbFiR3k2P5oF",
      "include_colab_link": true
    },
    "kernelspec": {
      "name": "python3",
      "display_name": "Python 3"
    },
    "language_info": {
      "name": "python"
    }
  },
  "cells": [
    {
      "cell_type": "markdown",
      "metadata": {
        "id": "view-in-github",
        "colab_type": "text"
      },
      "source": [
        "<a href=\"https://colab.research.google.com/github/Meena-27/COGNIFYZ_l1_01/blob/main/top_cuisine.ipynb\" target=\"_parent\"><img src=\"https://colab.research.google.com/assets/colab-badge.svg\" alt=\"Open In Colab\"/></a>"
      ]
    },
    {
      "cell_type": "code",
      "execution_count": 2,
      "metadata": {
        "colab": {
          "base_uri": "https://localhost:8080/"
        },
        "id": "PDol3zH6ug0y",
        "outputId": "8aae8a5e-4c01-4568-f2ed-9b325b439227"
      },
      "outputs": [
        {
          "output_type": "stream",
          "name": "stdout",
          "text": [
            "Top Three Most Common Cuisines:\n",
            "cuisines type\n",
            "North Indian, Chinese    421\n",
            "North Indian             420\n",
            "South Indian             348\n",
            "Name: count, dtype: int64\n",
            "\n",
            "Percentage of Restaurants Serving Each Top Cuisine:\n",
            "cuisines type\n",
            "North Indian, Chinese    5.925405\n",
            "North Indian             5.911330\n",
            "South Indian             4.897959\n",
            "Name: count, dtype: float64\n"
          ]
        }
      ],
      "source": [
        "import pandas as pd\n",
        "\n",
        "restaurant_data = pd.read_csv('/content/zomato.csv')\n",
        "\n",
        "cuisine_counts = restaurant_data['cuisines type'].value_counts()\n",
        "\n",
        "top_cuisines = cuisine_counts.head(3)\n",
        "\n",
        "total_restaurants = len(restaurant_data)\n",
        "\n",
        "cuisine_percentages = (top_cuisines / total_restaurants) * 100\n",
        "\n",
        "print(\"Top Three Most Common Cuisines:\")\n",
        "print(top_cuisines)\n",
        "print(\"\\nPercentage of Restaurants Serving Each Top Cuisine:\")\n",
        "print(cuisine_percentages)\n"
      ]
    }
  ]
}